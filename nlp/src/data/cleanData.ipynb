{
 "cells": [
  {
   "cell_type": "code",
   "execution_count": 5,
   "metadata": {},
   "outputs": [],
   "source": [
    "import pandas as pd\n",
    "import numpy as np\n",
    "import json\n",
    "import os"
   ]
  },
  {
   "cell_type": "code",
   "execution_count": 6,
   "metadata": {},
   "outputs": [],
   "source": [
    "def format_data(dataset):\n",
    "    return[{'title': i['title'], 'context': j['context'], 'question': k['question'], 'answers': k['answers']}\n",
    "                    for i in dataset['data'] for j in i['paragraphs'] for k in j['qas']]"
   ]
  },
  {
   "cell_type": "code",
   "execution_count": null,
   "metadata": {},
   "outputs": [],
   "source": [
    "def make_path(path):\n",
    "    if not os.path.exists(path):\n",
    "        os.makedirs(path)"
   ]
  },
  {
   "cell_type": "code",
   "execution_count": 7,
   "metadata": {},
   "outputs": [],
   "source": [
    "with open(\"./dataSource/raw/train-SQuAD-v2.0.json\", \"r\") as fh:\n",
    "    train = json.loads(fh.read())\n",
    "\n",
    "train = format_data(train)\n",
    "\n",
    "with open(\"./dataSource/raw/dev-SQuAD-v2.0.json\", \"r\") as fh:\n",
    "    eval = json.loads(fh.read())\n",
    "\n",
    "eval = format_data(eval)\n"
   ]
  },
  {
   "cell_type": "code",
   "execution_count": 10,
   "metadata": {},
   "outputs": [
    {
     "ename": "SyntaxError",
     "evalue": "invalid syntax (218645834.py, line 2)",
     "output_type": "error",
     "traceback": [
      "\u001b[1;36m  Cell \u001b[1;32mIn[10], line 2\u001b[1;36m\u001b[0m\n\u001b[1;33m    train_dir = formatted_dir\"/train/\"\u001b[0m\n\u001b[1;37m                             ^\u001b[0m\n\u001b[1;31mSyntaxError\u001b[0m\u001b[1;31m:\u001b[0m invalid syntax\n"
     ]
    }
   ],
   "source": [
    "formatted_dir = \"dataSource/formatted/\"\n",
    "train_dir = formatted_dir + \"/train/\"\n",
    "eval_dir = formatted_dir + \"dataSource/eval/\"\n",
    "\n",
    "make_path(train_dir)\n",
    "make_path(eval_dir)\n",
    "\n",
    "with open(formatted_dir + \"/train/\" +\"train_p1.json\", \"w\") as fh:\n",
    "    [fh.write(json.dumps(i) + \"\\n\") for i in train[0:len(train)//2]]\n",
    "    \n",
    "with open(formatted_dir + \"/train/\" + \"train_p2.json\", \"w\") as fh:\n",
    "    [fh.write(json.dumps(i) + \"\\n\") for i in train[len(train)//2:]]\n",
    "\n",
    "with open(formatted_dir + \"/eval/+\"eval.json\", \"w\") as fh:\n",
    "    [fh.write(json.dumps(i) + \"\\n\") for i in eval]"
   ]
  },
  {
   "cell_type": "code",
   "execution_count": null,
   "metadata": {},
   "outputs": [],
   "source": []
  }
 ],
 "metadata": {
  "kernelspec": {
   "display_name": "venv",
   "language": "python",
   "name": "python3"
  },
  "language_info": {
   "codemirror_mode": {
    "name": "ipython",
    "version": 3
   },
   "file_extension": ".py",
   "mimetype": "text/x-python",
   "name": "python",
   "nbconvert_exporter": "python",
   "pygments_lexer": "ipython3",
   "version": "3.9.1"
  },
  "orig_nbformat": 4
 },
 "nbformat": 4,
 "nbformat_minor": 2
}
